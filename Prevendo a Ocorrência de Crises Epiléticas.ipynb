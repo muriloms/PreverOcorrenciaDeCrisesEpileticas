{
 "cells": [
  {
   "cell_type": "markdown",
   "metadata": {},
   "source": [
    "# Prevendo a Ocorrência de Crises Epiléticas"
   ]
  },
  {
   "cell_type": "markdown",
   "metadata": {},
   "source": [
    "---"
   ]
  },
  {
   "cell_type": "markdown",
   "metadata": {},
   "source": [
    "### Informações\n",
    "Este projeto tem como objetivo principal desenvolver um modelo de aprendizado de máquina para prever a ocorrência de crises epiléticas.\n",
    "\n",
    "O arquivo está organizado conforme etapas de um projeto de ciência de dados e desenvolvimento de modelos de aprendizado de máquina.\n",
    "\n",
    "O projeto tem como base o estudo de caso do curso Formação Inteligência Artificial Aplicada a Medicia da Data Science Academy.\n",
    "\n",
    "### Dados\n",
    "O banco de dados é oriundo do repositório da UCI:\n",
    "https://archive.ics.uci.edu/ml/datasets/Epileptic+Seizure+Recognition"
   ]
  },
  {
   "cell_type": "markdown",
   "metadata": {},
   "source": [
    "# Carregar pacotes"
   ]
  },
  {
   "cell_type": "code",
   "execution_count": 145,
   "metadata": {},
   "outputs": [],
   "source": [
    "# Info do sistema\n",
    "import os\n",
    "\n",
    "# Manipular dados e computação científica\n",
    "import pandas as pd\n",
    "import numpy as np\n",
    "from sklearn.preprocessing import StandardScaler\n",
    "\n",
    "# Salvar arquivos\n",
    "import pickle\n",
    "\n",
    "# métricas para avaliação dos modelos\n",
    "from sklearn.metrics import roc_auc_score, accuracy_score, precision_score, recall_score, roc_curve\n",
    "\n",
    "# Modelos\n",
    "from sklearn.linear_model import LogisticRegression\n",
    "from sklearn.naive_bayes import GaussianNB\n",
    "from xgboost import XGBClassifier\n",
    "import xgboost as xgb\n",
    "\n",
    "# Visualização\n",
    "import seaborn as sns\n",
    "import matplotlib.pyplot as plt\n",
    "%matplotlib inline\n",
    "sns.set(style = \"whitegrid\")\n",
    "\n",
    "# não mostrar avisos\n",
    "import warnings\n",
    "warnings.filterwarnings('ignore')"
   ]
  },
  {
   "cell_type": "markdown",
   "metadata": {},
   "source": [
    "# ------------------------------ Etapa 1 ------------------------------ "
   ]
  },
  {
   "cell_type": "markdown",
   "metadata": {},
   "source": [
    "### Informações sobre o problema\n",
    "Cerca de 1 em cada 26 pessoas desenvolverá epilepsia em algum momento da vida. Existem muitos tipos de convulsões, cada uma com sintomas diferentes, como perda de consciência, movimentos bruscos ou confusão. \n",
    "\n",
    "\n",
    "Algumas convulsões são muito mais difíceis de detectar visualmente, os pacientes geralmente apresentam sintomas como não responder ou olhar sem expressão por um breve período de tempo. As convulsões podem ocorrer inesperadamente e podem resultar em lesões como queda, mordedura da língua ou perda do controle da urina ou fezes. Portanto, essas são algumas das razões pelas quais a detecção de convulsões é de extrema importância para pacientes sob supervisão médica que se suspeitem estar propensos a convulsões.\n",
    "\n",
    "\n",
    "### Objetivo\n",
    "Prever se um paciente está tendo uma convulsão ou não através de 178 leituras de EEG (Eletroencefalograma) por segundo.\n",
    "\n",
    "\n",
    "### Métodos\n",
    "Métodos de classificação binária para prever se um indivíduo está tendo uma convulsão em algum momento.\n",
    "\n",
    "\n",
    "#### Métrica\n",
    "AUC Score (Area Under The Curve Score), cujo valor vai de 1 a 100% e para esse problema o valor da métrica deve ser aproximadamente de 99%, uma vez que a previsão do modelo está relacionada a casos de vida ou morte."
   ]
  },
  {
   "cell_type": "markdown",
   "metadata": {},
   "source": [
    "# ------------------------------ Etapa 2 ------------------------------ \n",
    "## Compreensão dos dados"
   ]
  },
  {
   "cell_type": "markdown",
   "metadata": {},
   "source": [
    "### Análise exploratória"
   ]
  },
  {
   "cell_type": "code",
   "execution_count": 136,
   "metadata": {},
   "outputs": [],
   "source": [
    "# Definir diretório dos dados\n",
    "#print(os.getcwd())"
   ]
  },
  {
   "cell_type": "code",
   "execution_count": 15,
   "metadata": {},
   "outputs": [],
   "source": [
    "path = '..\\_dados\\PrevendoOcorrenciaDeCrisesEpileticas'\n",
    "os.chdir(path)"
   ]
  },
  {
   "cell_type": "code",
   "execution_count": 17,
   "metadata": {},
   "outputs": [],
   "source": [
    "# Carregar dados\n",
    "df = pd.read_csv('dados_originais.csv')"
   ]
  },
  {
   "cell_type": "code",
   "execution_count": 28,
   "metadata": {},
   "outputs": [
    {
     "name": "stdout",
     "output_type": "stream",
     "text": [
      "Dimensões do dataset \n",
      " Número de observações (linhas): 11500 \n",
      " Número de variáveis (colunas):  180\n"
     ]
    },
    {
     "data": {
      "text/html": [
       "<div>\n",
       "<style scoped>\n",
       "    .dataframe tbody tr th:only-of-type {\n",
       "        vertical-align: middle;\n",
       "    }\n",
       "\n",
       "    .dataframe tbody tr th {\n",
       "        vertical-align: top;\n",
       "    }\n",
       "\n",
       "    .dataframe thead th {\n",
       "        text-align: right;\n",
       "    }\n",
       "</style>\n",
       "<table border=\"1\" class=\"dataframe\">\n",
       "  <thead>\n",
       "    <tr style=\"text-align: right;\">\n",
       "      <th></th>\n",
       "      <th>Unnamed: 0</th>\n",
       "      <th>X1</th>\n",
       "      <th>X2</th>\n",
       "      <th>X3</th>\n",
       "      <th>X4</th>\n",
       "      <th>X5</th>\n",
       "      <th>X6</th>\n",
       "      <th>X7</th>\n",
       "      <th>X8</th>\n",
       "      <th>X9</th>\n",
       "      <th>...</th>\n",
       "      <th>X170</th>\n",
       "      <th>X171</th>\n",
       "      <th>X172</th>\n",
       "      <th>X173</th>\n",
       "      <th>X174</th>\n",
       "      <th>X175</th>\n",
       "      <th>X176</th>\n",
       "      <th>X177</th>\n",
       "      <th>X178</th>\n",
       "      <th>y</th>\n",
       "    </tr>\n",
       "  </thead>\n",
       "  <tbody>\n",
       "    <tr>\n",
       "      <th>0</th>\n",
       "      <td>X21.V1.791</td>\n",
       "      <td>135</td>\n",
       "      <td>190</td>\n",
       "      <td>229</td>\n",
       "      <td>223</td>\n",
       "      <td>192</td>\n",
       "      <td>125</td>\n",
       "      <td>55</td>\n",
       "      <td>-9</td>\n",
       "      <td>-33</td>\n",
       "      <td>...</td>\n",
       "      <td>-17</td>\n",
       "      <td>-15</td>\n",
       "      <td>-31</td>\n",
       "      <td>-77</td>\n",
       "      <td>-103</td>\n",
       "      <td>-127</td>\n",
       "      <td>-116</td>\n",
       "      <td>-83</td>\n",
       "      <td>-51</td>\n",
       "      <td>4</td>\n",
       "    </tr>\n",
       "    <tr>\n",
       "      <th>1</th>\n",
       "      <td>X15.V1.924</td>\n",
       "      <td>386</td>\n",
       "      <td>382</td>\n",
       "      <td>356</td>\n",
       "      <td>331</td>\n",
       "      <td>320</td>\n",
       "      <td>315</td>\n",
       "      <td>307</td>\n",
       "      <td>272</td>\n",
       "      <td>244</td>\n",
       "      <td>...</td>\n",
       "      <td>164</td>\n",
       "      <td>150</td>\n",
       "      <td>146</td>\n",
       "      <td>152</td>\n",
       "      <td>157</td>\n",
       "      <td>156</td>\n",
       "      <td>154</td>\n",
       "      <td>143</td>\n",
       "      <td>129</td>\n",
       "      <td>1</td>\n",
       "    </tr>\n",
       "    <tr>\n",
       "      <th>2</th>\n",
       "      <td>X8.V1.1</td>\n",
       "      <td>-32</td>\n",
       "      <td>-39</td>\n",
       "      <td>-47</td>\n",
       "      <td>-37</td>\n",
       "      <td>-32</td>\n",
       "      <td>-36</td>\n",
       "      <td>-57</td>\n",
       "      <td>-73</td>\n",
       "      <td>-85</td>\n",
       "      <td>...</td>\n",
       "      <td>57</td>\n",
       "      <td>64</td>\n",
       "      <td>48</td>\n",
       "      <td>19</td>\n",
       "      <td>-12</td>\n",
       "      <td>-30</td>\n",
       "      <td>-35</td>\n",
       "      <td>-35</td>\n",
       "      <td>-36</td>\n",
       "      <td>5</td>\n",
       "    </tr>\n",
       "    <tr>\n",
       "      <th>3</th>\n",
       "      <td>X16.V1.60</td>\n",
       "      <td>-105</td>\n",
       "      <td>-101</td>\n",
       "      <td>-96</td>\n",
       "      <td>-92</td>\n",
       "      <td>-89</td>\n",
       "      <td>-95</td>\n",
       "      <td>-102</td>\n",
       "      <td>-100</td>\n",
       "      <td>-87</td>\n",
       "      <td>...</td>\n",
       "      <td>-82</td>\n",
       "      <td>-81</td>\n",
       "      <td>-80</td>\n",
       "      <td>-77</td>\n",
       "      <td>-85</td>\n",
       "      <td>-77</td>\n",
       "      <td>-72</td>\n",
       "      <td>-69</td>\n",
       "      <td>-65</td>\n",
       "      <td>5</td>\n",
       "    </tr>\n",
       "    <tr>\n",
       "      <th>4</th>\n",
       "      <td>X20.V1.54</td>\n",
       "      <td>-9</td>\n",
       "      <td>-65</td>\n",
       "      <td>-98</td>\n",
       "      <td>-102</td>\n",
       "      <td>-78</td>\n",
       "      <td>-48</td>\n",
       "      <td>-16</td>\n",
       "      <td>0</td>\n",
       "      <td>-21</td>\n",
       "      <td>...</td>\n",
       "      <td>4</td>\n",
       "      <td>2</td>\n",
       "      <td>-12</td>\n",
       "      <td>-32</td>\n",
       "      <td>-41</td>\n",
       "      <td>-65</td>\n",
       "      <td>-83</td>\n",
       "      <td>-89</td>\n",
       "      <td>-73</td>\n",
       "      <td>5</td>\n",
       "    </tr>\n",
       "  </tbody>\n",
       "</table>\n",
       "<p>5 rows × 180 columns</p>\n",
       "</div>"
      ],
      "text/plain": [
       "   Unnamed: 0   X1   X2   X3   X4   X5   X6   X7   X8   X9 ...  X170  X171  \\\n",
       "0  X21.V1.791  135  190  229  223  192  125   55   -9  -33 ...   -17   -15   \n",
       "1  X15.V1.924  386  382  356  331  320  315  307  272  244 ...   164   150   \n",
       "2     X8.V1.1  -32  -39  -47  -37  -32  -36  -57  -73  -85 ...    57    64   \n",
       "3   X16.V1.60 -105 -101  -96  -92  -89  -95 -102 -100  -87 ...   -82   -81   \n",
       "4   X20.V1.54   -9  -65  -98 -102  -78  -48  -16    0  -21 ...     4     2   \n",
       "\n",
       "   X172  X173  X174  X175  X176  X177  X178  y  \n",
       "0   -31   -77  -103  -127  -116   -83   -51  4  \n",
       "1   146   152   157   156   154   143   129  1  \n",
       "2    48    19   -12   -30   -35   -35   -36  5  \n",
       "3   -80   -77   -85   -77   -72   -69   -65  5  \n",
       "4   -12   -32   -41   -65   -83   -89   -73  5  \n",
       "\n",
       "[5 rows x 180 columns]"
      ]
     },
     "execution_count": 28,
     "metadata": {},
     "output_type": "execute_result"
    }
   ],
   "source": [
    "# Visualizar informações básicas\n",
    "print(\"Dimensões do dataset \\n\", \n",
    "      \"Número de observações (linhas):\", \n",
    "      df.shape[0], \n",
    "      \"\\n Número de variáveis (colunas): \",\n",
    "      df.shape[1])\n",
    "df.head()"
   ]
  },
  {
   "cell_type": "markdown",
   "metadata": {},
   "source": [
    "### Criar nova variável para análise\n",
    "Criar nova variável 'TARGET' onde 1 é quando um paciente está tendo uma convulsão e 0 quando não está tendo uma convulsão"
   ]
  },
  {
   "cell_type": "code",
   "execution_count": 29,
   "metadata": {},
   "outputs": [],
   "source": [
    "# Definir True quando valor for igual a 1 e False quando for diferente\n",
    "df['TARGET'] = df.y == 1"
   ]
  },
  {
   "cell_type": "code",
   "execution_count": 32,
   "metadata": {},
   "outputs": [],
   "source": [
    "# Transformar em valor número - melhor para construção de modelos\n",
    "# 0 = false | 1 = true\n",
    "df['TARGET'] = df['TARGET'].astype(int)"
   ]
  },
  {
   "cell_type": "code",
   "execution_count": 33,
   "metadata": {},
   "outputs": [
    {
     "data": {
      "text/html": [
       "<div>\n",
       "<style scoped>\n",
       "    .dataframe tbody tr th:only-of-type {\n",
       "        vertical-align: middle;\n",
       "    }\n",
       "\n",
       "    .dataframe tbody tr th {\n",
       "        vertical-align: top;\n",
       "    }\n",
       "\n",
       "    .dataframe thead th {\n",
       "        text-align: right;\n",
       "    }\n",
       "</style>\n",
       "<table border=\"1\" class=\"dataframe\">\n",
       "  <thead>\n",
       "    <tr style=\"text-align: right;\">\n",
       "      <th></th>\n",
       "      <th>Unnamed: 0</th>\n",
       "      <th>X1</th>\n",
       "      <th>X2</th>\n",
       "      <th>X3</th>\n",
       "      <th>X4</th>\n",
       "      <th>X5</th>\n",
       "      <th>X6</th>\n",
       "      <th>X7</th>\n",
       "      <th>X8</th>\n",
       "      <th>X9</th>\n",
       "      <th>...</th>\n",
       "      <th>X171</th>\n",
       "      <th>X172</th>\n",
       "      <th>X173</th>\n",
       "      <th>X174</th>\n",
       "      <th>X175</th>\n",
       "      <th>X176</th>\n",
       "      <th>X177</th>\n",
       "      <th>X178</th>\n",
       "      <th>y</th>\n",
       "      <th>TARGET</th>\n",
       "    </tr>\n",
       "  </thead>\n",
       "  <tbody>\n",
       "    <tr>\n",
       "      <th>0</th>\n",
       "      <td>X21.V1.791</td>\n",
       "      <td>135</td>\n",
       "      <td>190</td>\n",
       "      <td>229</td>\n",
       "      <td>223</td>\n",
       "      <td>192</td>\n",
       "      <td>125</td>\n",
       "      <td>55</td>\n",
       "      <td>-9</td>\n",
       "      <td>-33</td>\n",
       "      <td>...</td>\n",
       "      <td>-15</td>\n",
       "      <td>-31</td>\n",
       "      <td>-77</td>\n",
       "      <td>-103</td>\n",
       "      <td>-127</td>\n",
       "      <td>-116</td>\n",
       "      <td>-83</td>\n",
       "      <td>-51</td>\n",
       "      <td>4</td>\n",
       "      <td>0</td>\n",
       "    </tr>\n",
       "    <tr>\n",
       "      <th>1</th>\n",
       "      <td>X15.V1.924</td>\n",
       "      <td>386</td>\n",
       "      <td>382</td>\n",
       "      <td>356</td>\n",
       "      <td>331</td>\n",
       "      <td>320</td>\n",
       "      <td>315</td>\n",
       "      <td>307</td>\n",
       "      <td>272</td>\n",
       "      <td>244</td>\n",
       "      <td>...</td>\n",
       "      <td>150</td>\n",
       "      <td>146</td>\n",
       "      <td>152</td>\n",
       "      <td>157</td>\n",
       "      <td>156</td>\n",
       "      <td>154</td>\n",
       "      <td>143</td>\n",
       "      <td>129</td>\n",
       "      <td>1</td>\n",
       "      <td>1</td>\n",
       "    </tr>\n",
       "    <tr>\n",
       "      <th>2</th>\n",
       "      <td>X8.V1.1</td>\n",
       "      <td>-32</td>\n",
       "      <td>-39</td>\n",
       "      <td>-47</td>\n",
       "      <td>-37</td>\n",
       "      <td>-32</td>\n",
       "      <td>-36</td>\n",
       "      <td>-57</td>\n",
       "      <td>-73</td>\n",
       "      <td>-85</td>\n",
       "      <td>...</td>\n",
       "      <td>64</td>\n",
       "      <td>48</td>\n",
       "      <td>19</td>\n",
       "      <td>-12</td>\n",
       "      <td>-30</td>\n",
       "      <td>-35</td>\n",
       "      <td>-35</td>\n",
       "      <td>-36</td>\n",
       "      <td>5</td>\n",
       "      <td>0</td>\n",
       "    </tr>\n",
       "    <tr>\n",
       "      <th>3</th>\n",
       "      <td>X16.V1.60</td>\n",
       "      <td>-105</td>\n",
       "      <td>-101</td>\n",
       "      <td>-96</td>\n",
       "      <td>-92</td>\n",
       "      <td>-89</td>\n",
       "      <td>-95</td>\n",
       "      <td>-102</td>\n",
       "      <td>-100</td>\n",
       "      <td>-87</td>\n",
       "      <td>...</td>\n",
       "      <td>-81</td>\n",
       "      <td>-80</td>\n",
       "      <td>-77</td>\n",
       "      <td>-85</td>\n",
       "      <td>-77</td>\n",
       "      <td>-72</td>\n",
       "      <td>-69</td>\n",
       "      <td>-65</td>\n",
       "      <td>5</td>\n",
       "      <td>0</td>\n",
       "    </tr>\n",
       "    <tr>\n",
       "      <th>4</th>\n",
       "      <td>X20.V1.54</td>\n",
       "      <td>-9</td>\n",
       "      <td>-65</td>\n",
       "      <td>-98</td>\n",
       "      <td>-102</td>\n",
       "      <td>-78</td>\n",
       "      <td>-48</td>\n",
       "      <td>-16</td>\n",
       "      <td>0</td>\n",
       "      <td>-21</td>\n",
       "      <td>...</td>\n",
       "      <td>2</td>\n",
       "      <td>-12</td>\n",
       "      <td>-32</td>\n",
       "      <td>-41</td>\n",
       "      <td>-65</td>\n",
       "      <td>-83</td>\n",
       "      <td>-89</td>\n",
       "      <td>-73</td>\n",
       "      <td>5</td>\n",
       "      <td>0</td>\n",
       "    </tr>\n",
       "  </tbody>\n",
       "</table>\n",
       "<p>5 rows × 181 columns</p>\n",
       "</div>"
      ],
      "text/plain": [
       "   Unnamed: 0   X1   X2   X3   X4   X5   X6   X7   X8   X9   ...    X171  \\\n",
       "0  X21.V1.791  135  190  229  223  192  125   55   -9  -33   ...     -15   \n",
       "1  X15.V1.924  386  382  356  331  320  315  307  272  244   ...     150   \n",
       "2     X8.V1.1  -32  -39  -47  -37  -32  -36  -57  -73  -85   ...      64   \n",
       "3   X16.V1.60 -105 -101  -96  -92  -89  -95 -102 -100  -87   ...     -81   \n",
       "4   X20.V1.54   -9  -65  -98 -102  -78  -48  -16    0  -21   ...       2   \n",
       "\n",
       "   X172  X173  X174  X175  X176  X177  X178  y  TARGET  \n",
       "0   -31   -77  -103  -127  -116   -83   -51  4       0  \n",
       "1   146   152   157   156   154   143   129  1       1  \n",
       "2    48    19   -12   -30   -35   -35   -36  5       0  \n",
       "3   -80   -77   -85   -77   -72   -69   -65  5       0  \n",
       "4   -12   -32   -41   -65   -83   -89   -73  5       0  \n",
       "\n",
       "[5 rows x 181 columns]"
      ]
     },
     "execution_count": 33,
     "metadata": {},
     "output_type": "execute_result"
    }
   ],
   "source": [
    "df.head()"
   ]
  },
  {
   "cell_type": "code",
   "execution_count": 36,
   "metadata": {},
   "outputs": [],
   "source": [
    "# deletar coluna y\n",
    "df.pop('y')"
   ]
  },
  {
   "cell_type": "code",
   "execution_count": 35,
   "metadata": {},
   "outputs": [
    {
     "data": {
      "text/html": [
       "<div>\n",
       "<style scoped>\n",
       "    .dataframe tbody tr th:only-of-type {\n",
       "        vertical-align: middle;\n",
       "    }\n",
       "\n",
       "    .dataframe tbody tr th {\n",
       "        vertical-align: top;\n",
       "    }\n",
       "\n",
       "    .dataframe thead th {\n",
       "        text-align: right;\n",
       "    }\n",
       "</style>\n",
       "<table border=\"1\" class=\"dataframe\">\n",
       "  <thead>\n",
       "    <tr style=\"text-align: right;\">\n",
       "      <th></th>\n",
       "      <th>Unnamed: 0</th>\n",
       "      <th>X1</th>\n",
       "      <th>X2</th>\n",
       "      <th>X3</th>\n",
       "      <th>X4</th>\n",
       "      <th>X5</th>\n",
       "      <th>X6</th>\n",
       "      <th>X7</th>\n",
       "      <th>X8</th>\n",
       "      <th>X9</th>\n",
       "      <th>...</th>\n",
       "      <th>X170</th>\n",
       "      <th>X171</th>\n",
       "      <th>X172</th>\n",
       "      <th>X173</th>\n",
       "      <th>X174</th>\n",
       "      <th>X175</th>\n",
       "      <th>X176</th>\n",
       "      <th>X177</th>\n",
       "      <th>X178</th>\n",
       "      <th>TARGET</th>\n",
       "    </tr>\n",
       "  </thead>\n",
       "  <tbody>\n",
       "    <tr>\n",
       "      <th>0</th>\n",
       "      <td>X21.V1.791</td>\n",
       "      <td>135</td>\n",
       "      <td>190</td>\n",
       "      <td>229</td>\n",
       "      <td>223</td>\n",
       "      <td>192</td>\n",
       "      <td>125</td>\n",
       "      <td>55</td>\n",
       "      <td>-9</td>\n",
       "      <td>-33</td>\n",
       "      <td>...</td>\n",
       "      <td>-17</td>\n",
       "      <td>-15</td>\n",
       "      <td>-31</td>\n",
       "      <td>-77</td>\n",
       "      <td>-103</td>\n",
       "      <td>-127</td>\n",
       "      <td>-116</td>\n",
       "      <td>-83</td>\n",
       "      <td>-51</td>\n",
       "      <td>0</td>\n",
       "    </tr>\n",
       "    <tr>\n",
       "      <th>1</th>\n",
       "      <td>X15.V1.924</td>\n",
       "      <td>386</td>\n",
       "      <td>382</td>\n",
       "      <td>356</td>\n",
       "      <td>331</td>\n",
       "      <td>320</td>\n",
       "      <td>315</td>\n",
       "      <td>307</td>\n",
       "      <td>272</td>\n",
       "      <td>244</td>\n",
       "      <td>...</td>\n",
       "      <td>164</td>\n",
       "      <td>150</td>\n",
       "      <td>146</td>\n",
       "      <td>152</td>\n",
       "      <td>157</td>\n",
       "      <td>156</td>\n",
       "      <td>154</td>\n",
       "      <td>143</td>\n",
       "      <td>129</td>\n",
       "      <td>1</td>\n",
       "    </tr>\n",
       "    <tr>\n",
       "      <th>2</th>\n",
       "      <td>X8.V1.1</td>\n",
       "      <td>-32</td>\n",
       "      <td>-39</td>\n",
       "      <td>-47</td>\n",
       "      <td>-37</td>\n",
       "      <td>-32</td>\n",
       "      <td>-36</td>\n",
       "      <td>-57</td>\n",
       "      <td>-73</td>\n",
       "      <td>-85</td>\n",
       "      <td>...</td>\n",
       "      <td>57</td>\n",
       "      <td>64</td>\n",
       "      <td>48</td>\n",
       "      <td>19</td>\n",
       "      <td>-12</td>\n",
       "      <td>-30</td>\n",
       "      <td>-35</td>\n",
       "      <td>-35</td>\n",
       "      <td>-36</td>\n",
       "      <td>0</td>\n",
       "    </tr>\n",
       "    <tr>\n",
       "      <th>3</th>\n",
       "      <td>X16.V1.60</td>\n",
       "      <td>-105</td>\n",
       "      <td>-101</td>\n",
       "      <td>-96</td>\n",
       "      <td>-92</td>\n",
       "      <td>-89</td>\n",
       "      <td>-95</td>\n",
       "      <td>-102</td>\n",
       "      <td>-100</td>\n",
       "      <td>-87</td>\n",
       "      <td>...</td>\n",
       "      <td>-82</td>\n",
       "      <td>-81</td>\n",
       "      <td>-80</td>\n",
       "      <td>-77</td>\n",
       "      <td>-85</td>\n",
       "      <td>-77</td>\n",
       "      <td>-72</td>\n",
       "      <td>-69</td>\n",
       "      <td>-65</td>\n",
       "      <td>0</td>\n",
       "    </tr>\n",
       "    <tr>\n",
       "      <th>4</th>\n",
       "      <td>X20.V1.54</td>\n",
       "      <td>-9</td>\n",
       "      <td>-65</td>\n",
       "      <td>-98</td>\n",
       "      <td>-102</td>\n",
       "      <td>-78</td>\n",
       "      <td>-48</td>\n",
       "      <td>-16</td>\n",
       "      <td>0</td>\n",
       "      <td>-21</td>\n",
       "      <td>...</td>\n",
       "      <td>4</td>\n",
       "      <td>2</td>\n",
       "      <td>-12</td>\n",
       "      <td>-32</td>\n",
       "      <td>-41</td>\n",
       "      <td>-65</td>\n",
       "      <td>-83</td>\n",
       "      <td>-89</td>\n",
       "      <td>-73</td>\n",
       "      <td>0</td>\n",
       "    </tr>\n",
       "  </tbody>\n",
       "</table>\n",
       "<p>5 rows × 180 columns</p>\n",
       "</div>"
      ],
      "text/plain": [
       "   Unnamed: 0   X1   X2   X3   X4   X5   X6   X7   X8   X9   ...    X170  \\\n",
       "0  X21.V1.791  135  190  229  223  192  125   55   -9  -33   ...     -17   \n",
       "1  X15.V1.924  386  382  356  331  320  315  307  272  244   ...     164   \n",
       "2     X8.V1.1  -32  -39  -47  -37  -32  -36  -57  -73  -85   ...      57   \n",
       "3   X16.V1.60 -105 -101  -96  -92  -89  -95 -102 -100  -87   ...     -82   \n",
       "4   X20.V1.54   -9  -65  -98 -102  -78  -48  -16    0  -21   ...       4   \n",
       "\n",
       "   X171  X172  X173  X174  X175  X176  X177  X178  TARGET  \n",
       "0   -15   -31   -77  -103  -127  -116   -83   -51       0  \n",
       "1   150   146   152   157   156   154   143   129       1  \n",
       "2    64    48    19   -12   -30   -35   -35   -36       0  \n",
       "3   -81   -80   -77   -85   -77   -72   -69   -65       0  \n",
       "4     2   -12   -32   -41   -65   -83   -89   -73       0  \n",
       "\n",
       "[5 rows x 180 columns]"
      ]
     },
     "execution_count": 35,
     "metadata": {},
     "output_type": "execute_result"
    }
   ],
   "source": [
    "df.head()"
   ]
  },
  {
   "cell_type": "code",
   "execution_count": 38,
   "metadata": {},
   "outputs": [],
   "source": [
    "# Coluna 1 não é importante para o modelo\n",
    "df.drop(df.columns[0], axis=1, inplace=True)"
   ]
  },
  {
   "cell_type": "code",
   "execution_count": 39,
   "metadata": {},
   "outputs": [
    {
     "name": "stdout",
     "output_type": "stream",
     "text": [
      "Número de variáveis:  179\n"
     ]
    }
   ],
   "source": [
    "print(\"Número de variáveis: \", len(df.columns))"
   ]
  },
  {
   "cell_type": "markdown",
   "metadata": {},
   "source": [
    "### Info\n",
    "O conjunto de dados tem apenas um recurso exclusivo, e essas são as leituras de EEG. As colunas são divididas para capturar a leitura do EEG em um ponto no tempo e todos os pontos no tempo (todas as 178 colunas) existem no mesmo segundo. "
   ]
  },
  {
   "cell_type": "markdown",
   "metadata": {},
   "source": [
    "### Calcular frequência da classe positiva na variável target\n",
    " A taxa é calculada por: número de amostras positivas / número de amostras. Nesse cenário específico, significa que as pessoas que têm uma convulsão são positivas, enquanto as que não sofrem são negativas."
   ]
  },
  {
   "cell_type": "code",
   "execution_count": 53,
   "metadata": {},
   "outputs": [
    {
     "name": "stdout",
     "output_type": "stream",
     "text": [
      "Frequência da classe positiva: 0.200\n"
     ]
    }
   ],
   "source": [
    "# classe positiva: target = 1\n",
    "def calc_freq(y_atual):\n",
    "    freq = sum(y_atual/ len(y_atual))\n",
    "    \n",
    "    return freq\n",
    "\n",
    "print(\"Frequência da classe positiva: %.3f\"%\n",
    "     calc_freq(df['TARGET'].values))"
   ]
  },
  {
   "cell_type": "markdown",
   "metadata": {},
   "source": [
    "uma taxa  de 0,2 significa que 20% de nossa amostra está tendo uma convulsão naquele momento."
   ]
  },
  {
   "cell_type": "markdown",
   "metadata": {},
   "source": [
    "# ------------------------------ Etapa 3 ------------------------------ \n",
    "## Preparação dos dados"
   ]
  },
  {
   "cell_type": "code",
   "execution_count": 58,
   "metadata": {},
   "outputs": [],
   "source": [
    "# Selecionar colunas de interesse\n",
    "col_list = df.columns.tolist()\n",
    "col_input = col_list[0:178]\n",
    "df = df[col_input + [\"TARGET\"]]"
   ]
  },
  {
   "cell_type": "code",
   "execution_count": 59,
   "metadata": {},
   "outputs": [
    {
     "data": {
      "text/html": [
       "<div>\n",
       "<style scoped>\n",
       "    .dataframe tbody tr th:only-of-type {\n",
       "        vertical-align: middle;\n",
       "    }\n",
       "\n",
       "    .dataframe tbody tr th {\n",
       "        vertical-align: top;\n",
       "    }\n",
       "\n",
       "    .dataframe thead th {\n",
       "        text-align: right;\n",
       "    }\n",
       "</style>\n",
       "<table border=\"1\" class=\"dataframe\">\n",
       "  <thead>\n",
       "    <tr style=\"text-align: right;\">\n",
       "      <th></th>\n",
       "      <th>X1</th>\n",
       "      <th>X2</th>\n",
       "      <th>X3</th>\n",
       "      <th>X4</th>\n",
       "      <th>X5</th>\n",
       "      <th>X6</th>\n",
       "      <th>X7</th>\n",
       "      <th>X8</th>\n",
       "      <th>X9</th>\n",
       "      <th>X10</th>\n",
       "      <th>...</th>\n",
       "      <th>X170</th>\n",
       "      <th>X171</th>\n",
       "      <th>X172</th>\n",
       "      <th>X173</th>\n",
       "      <th>X174</th>\n",
       "      <th>X175</th>\n",
       "      <th>X176</th>\n",
       "      <th>X177</th>\n",
       "      <th>X178</th>\n",
       "      <th>TARGET</th>\n",
       "    </tr>\n",
       "  </thead>\n",
       "  <tbody>\n",
       "    <tr>\n",
       "      <th>0</th>\n",
       "      <td>135</td>\n",
       "      <td>190</td>\n",
       "      <td>229</td>\n",
       "      <td>223</td>\n",
       "      <td>192</td>\n",
       "      <td>125</td>\n",
       "      <td>55</td>\n",
       "      <td>-9</td>\n",
       "      <td>-33</td>\n",
       "      <td>-38</td>\n",
       "      <td>...</td>\n",
       "      <td>-17</td>\n",
       "      <td>-15</td>\n",
       "      <td>-31</td>\n",
       "      <td>-77</td>\n",
       "      <td>-103</td>\n",
       "      <td>-127</td>\n",
       "      <td>-116</td>\n",
       "      <td>-83</td>\n",
       "      <td>-51</td>\n",
       "      <td>0</td>\n",
       "    </tr>\n",
       "    <tr>\n",
       "      <th>1</th>\n",
       "      <td>386</td>\n",
       "      <td>382</td>\n",
       "      <td>356</td>\n",
       "      <td>331</td>\n",
       "      <td>320</td>\n",
       "      <td>315</td>\n",
       "      <td>307</td>\n",
       "      <td>272</td>\n",
       "      <td>244</td>\n",
       "      <td>232</td>\n",
       "      <td>...</td>\n",
       "      <td>164</td>\n",
       "      <td>150</td>\n",
       "      <td>146</td>\n",
       "      <td>152</td>\n",
       "      <td>157</td>\n",
       "      <td>156</td>\n",
       "      <td>154</td>\n",
       "      <td>143</td>\n",
       "      <td>129</td>\n",
       "      <td>1</td>\n",
       "    </tr>\n",
       "    <tr>\n",
       "      <th>2</th>\n",
       "      <td>-32</td>\n",
       "      <td>-39</td>\n",
       "      <td>-47</td>\n",
       "      <td>-37</td>\n",
       "      <td>-32</td>\n",
       "      <td>-36</td>\n",
       "      <td>-57</td>\n",
       "      <td>-73</td>\n",
       "      <td>-85</td>\n",
       "      <td>-94</td>\n",
       "      <td>...</td>\n",
       "      <td>57</td>\n",
       "      <td>64</td>\n",
       "      <td>48</td>\n",
       "      <td>19</td>\n",
       "      <td>-12</td>\n",
       "      <td>-30</td>\n",
       "      <td>-35</td>\n",
       "      <td>-35</td>\n",
       "      <td>-36</td>\n",
       "      <td>0</td>\n",
       "    </tr>\n",
       "    <tr>\n",
       "      <th>3</th>\n",
       "      <td>-105</td>\n",
       "      <td>-101</td>\n",
       "      <td>-96</td>\n",
       "      <td>-92</td>\n",
       "      <td>-89</td>\n",
       "      <td>-95</td>\n",
       "      <td>-102</td>\n",
       "      <td>-100</td>\n",
       "      <td>-87</td>\n",
       "      <td>-79</td>\n",
       "      <td>...</td>\n",
       "      <td>-82</td>\n",
       "      <td>-81</td>\n",
       "      <td>-80</td>\n",
       "      <td>-77</td>\n",
       "      <td>-85</td>\n",
       "      <td>-77</td>\n",
       "      <td>-72</td>\n",
       "      <td>-69</td>\n",
       "      <td>-65</td>\n",
       "      <td>0</td>\n",
       "    </tr>\n",
       "    <tr>\n",
       "      <th>4</th>\n",
       "      <td>-9</td>\n",
       "      <td>-65</td>\n",
       "      <td>-98</td>\n",
       "      <td>-102</td>\n",
       "      <td>-78</td>\n",
       "      <td>-48</td>\n",
       "      <td>-16</td>\n",
       "      <td>0</td>\n",
       "      <td>-21</td>\n",
       "      <td>-59</td>\n",
       "      <td>...</td>\n",
       "      <td>4</td>\n",
       "      <td>2</td>\n",
       "      <td>-12</td>\n",
       "      <td>-32</td>\n",
       "      <td>-41</td>\n",
       "      <td>-65</td>\n",
       "      <td>-83</td>\n",
       "      <td>-89</td>\n",
       "      <td>-73</td>\n",
       "      <td>0</td>\n",
       "    </tr>\n",
       "  </tbody>\n",
       "</table>\n",
       "<p>5 rows × 179 columns</p>\n",
       "</div>"
      ],
      "text/plain": [
       "    X1   X2   X3   X4   X5   X6   X7   X8   X9  X10   ...    X170  X171  X172  \\\n",
       "0  135  190  229  223  192  125   55   -9  -33  -38   ...     -17   -15   -31   \n",
       "1  386  382  356  331  320  315  307  272  244  232   ...     164   150   146   \n",
       "2  -32  -39  -47  -37  -32  -36  -57  -73  -85  -94   ...      57    64    48   \n",
       "3 -105 -101  -96  -92  -89  -95 -102 -100  -87  -79   ...     -82   -81   -80   \n",
       "4   -9  -65  -98 -102  -78  -48  -16    0  -21  -59   ...       4     2   -12   \n",
       "\n",
       "   X173  X174  X175  X176  X177  X178  TARGET  \n",
       "0   -77  -103  -127  -116   -83   -51       0  \n",
       "1   152   157   156   154   143   129       1  \n",
       "2    19   -12   -30   -35   -35   -36       0  \n",
       "3   -77   -85   -77   -72   -69   -65       0  \n",
       "4   -32   -41   -65   -83   -89   -73       0  \n",
       "\n",
       "[5 rows x 179 columns]"
      ]
     },
     "execution_count": 59,
     "metadata": {},
     "output_type": "execute_result"
    }
   ],
   "source": [
    "df.head()"
   ]
  },
  {
   "cell_type": "markdown",
   "metadata": {},
   "source": [
    "O conjunto de dados possue 178 recursos, leituras de EEG, mais a variável target, com ou sem epilepsia"
   ]
  },
  {
   "cell_type": "code",
   "execution_count": 62,
   "metadata": {},
   "outputs": [],
   "source": [
    "# Verificar dados duplicados nos dados de entrada\n",
    "dup_cols = set([x for x in col_input if col_input.count(x) > 1])\n",
    "assert len(dup_cols) == 0, \"colunas duplicadas nos dados de entrada!\"\n",
    "\n",
    "# Verificar dados duplicados no dataset final\n",
    "cols_df_data = list(df)\n",
    "dup_cols_df = set([x for x in cols_df_data if cols_df_data.count(x) > 1])\n",
    "assert len(dup_cols_df) == 0, \"colunas duplicadas no dataset final!\""
   ]
  },
  {
   "cell_type": "markdown",
   "metadata": {},
   "source": [
    "# ------------------------------ Etapa 4 ------------------------------ \n",
    "## Construção do Modelo"
   ]
  },
  {
   "cell_type": "markdown",
   "metadata": {},
   "source": [
    "### Dividir dados em dados de treino, validação e teste"
   ]
  },
  {
   "cell_type": "code",
   "execution_count": 65,
   "metadata": {},
   "outputs": [],
   "source": [
    "# Gerar amostras aleatórias\n",
    "df = df.sample(n = len(df))\n",
    "\n",
    "# Ajustar índices\n",
    "df = df.reset_index(drop=True)"
   ]
  },
  {
   "cell_type": "code",
   "execution_count": 67,
   "metadata": {},
   "outputs": [],
   "source": [
    "# Gerar índice para divisão dos dados\n",
    "df_valid_teste = df.sample(frac=0.3)"
   ]
  },
  {
   "cell_type": "code",
   "execution_count": 68,
   "metadata": {},
   "outputs": [],
   "source": [
    "# Divisão dos dados\n",
    "\n",
    "# Teste\n",
    "df_teste = df_valid_teste.sample(frac=0.5)\n",
    "\n",
    "# Validação\n",
    "df_valid = df_valid_teste.drop(df_teste.index)\n",
    "\n",
    "# Treino\n",
    "df_treino = df.drop(df_valid_teste.index)"
   ]
  },
  {
   "cell_type": "code",
   "execution_count": 70,
   "metadata": {},
   "outputs": [
    {
     "name": "stdout",
     "output_type": "stream",
     "text": [
      "Teste(n = 1725): 0.187\n",
      "Validação(n = 1725): 0.223\n",
      "Treino(n = 8050): 0.198\n"
     ]
    }
   ],
   "source": [
    "# Verificar a freq de cada subconjunto\n",
    "print(\n",
    "    \"Teste(n = %d): %.3f\"\n",
    "    % (len(df_teste), calc_freq(df_teste.TARGET.values))\n",
    ")\n",
    "print(\n",
    "    \"Validação(n = %d): %.3f\"\n",
    "    % (len(df_valid), calc_freq(df_valid.TARGET.values))\n",
    ")\n",
    "print(\n",
    "    \"Treino(n = %d): %.3f\"\n",
    "    % (len(df_treino), calc_freq(df_treino.TARGET.values))\n",
    ")"
   ]
  },
  {
   "cell_type": "markdown",
   "metadata": {},
   "source": [
    "### Balancear conjunto de dados"
   ]
  },
  {
   "cell_type": "code",
   "execution_count": 78,
   "metadata": {},
   "outputs": [
    {
     "name": "stdout",
     "output_type": "stream",
     "text": [
      "Freq antes de balancear: 0.198\n",
      "Freq depois de balancear: 0.500\n"
     ]
    }
   ],
   "source": [
    "# criar índice\n",
    "rows_pos = df_treino.TARGET == 1\n",
    "\n",
    "# definir valores positivos e negativos do índice\n",
    "df_treino_pos = df_treino.loc[rows_pos]\n",
    "df_treino_neg = df_treino.loc[~rows_pos]\n",
    "\n",
    "# Definir valor mínimo\n",
    "n = np.min([len(df_treino_pos), len(df_treino_neg)])\n",
    "\n",
    "# Obter valores aleatórios para dataset de treino\n",
    "df_treino_final = pd.concat([df_treino_pos.sample(n=n, random_state=11),\n",
    "                            df_treino_neg.sample(n=n, random_state=11)],\n",
    "                           axis=0,\n",
    "                           ignore_index=True)\n",
    "\n",
    "df_treino_final = df_treino_final.sample(n = len(df_treino_final), random_state=11).reset_index(drop=True)\n",
    "\n",
    "print(\"Freq antes de balancear: %.3f\" %calc_freq(df_treino.TARGET.values))\n",
    "print(\"Freq depois de balancear: %.3f\" %calc_freq(df_treino_final.TARGET.values))"
   ]
  },
  {
   "cell_type": "code",
   "execution_count": 141,
   "metadata": {},
   "outputs": [],
   "source": [
    "# Dividir dados preditores e target\n",
    "\n",
    "# X\n",
    "X_treino = df_treino_final[col_input].values\n",
    "X_valid = df_valid[col_input].values\n",
    "X_teste = df_teste[col_input].values\n",
    "\n",
    "# Y\n",
    "Y_treino = df_treino_final['TARGET'].values\n",
    "Y_valid = df_valid['TARGET'].values\n",
    "Y_teste = df_teste['TARGET'].values"
   ]
  },
  {
   "cell_type": "code",
   "execution_count": 83,
   "metadata": {},
   "outputs": [
    {
     "name": "stdout",
     "output_type": "stream",
     "text": [
      "Dim dados treino:  (3186, 178) (3186,)\n",
      "Dim dados validação:  (1725, 178) (1725,)\n"
     ]
    }
   ],
   "source": [
    "print(\"Dim dados treino: \", X_treino.shape, Y_treino.shape)\n",
    "print(\"Dim dados validação: \", X_valid.shape, Y_valid.shape)"
   ]
  },
  {
   "cell_type": "markdown",
   "metadata": {},
   "source": [
    "### Normalizar os dados"
   ]
  },
  {
   "cell_type": "code",
   "execution_count": 142,
   "metadata": {},
   "outputs": [],
   "source": [
    "scaler = StandardScaler()\n",
    "\n",
    "scaler.fit(X_treino)\n",
    "\n",
    "# Aplicar a normalização\n",
    "X_treino_norm = scaler.transform(X_treino)\n",
    "X_valid_norm = scaler.transform(X_valid)\n",
    "X_teste_norm = scaler.transform(X_teste)"
   ]
  },
  {
   "cell_type": "code",
   "execution_count": 86,
   "metadata": {},
   "outputs": [
    {
     "data": {
      "text/plain": [
       "array([[-0.09866001, -0.54559718, -0.98275467, ..., -1.39379443,\n",
       "        -1.22947211, -1.05920211],\n",
       "       [ 1.20169153,  1.17942741,  1.31025715, ..., -0.02431516,\n",
       "        -0.65813158, -1.21200366],\n",
       "       [ 1.3425965 ,  0.93760153,  0.71957075, ...,  0.02503544,\n",
       "        -0.06593921, -0.21672874],\n",
       "       ...,\n",
       "       [ 0.10665865,  0.05090665, -0.02288925, ..., -0.02842771,\n",
       "        -0.04925774, -0.02262949],\n",
       "       [ 0.54547698,  0.51440625,  0.51036931, ...,  0.18953745,\n",
       "         0.25517919,  0.29536291],\n",
       "       [-0.15099614, -0.12643233, -0.12543898, ...,  0.00858524,\n",
       "         0.00495706, -0.02262949]])"
      ]
     },
     "execution_count": 86,
     "metadata": {},
     "output_type": "execute_result"
    }
   ],
   "source": [
    "X_treino_norm"
   ]
  },
  {
   "cell_type": "markdown",
   "metadata": {},
   "source": [
    "### Construção do Modelo"
   ]
  },
  {
   "cell_type": "code",
   "execution_count": 112,
   "metadata": {},
   "outputs": [],
   "source": [
    "# Funções auxiliares para calcular métricas de avaliação do modelo\n",
    "\n",
    "# Calcular a especifidade\n",
    "def calc_specificity(y_atual, y_pred, thresh):\n",
    "    \n",
    "    specificity = sum((y_pred < thresh) & (y_atual == 0 ))/ sum(y_atual == 0)\n",
    "    \n",
    "    return specificity\n",
    "\n",
    "\n",
    "# Gerar relatório de métricas\n",
    "def print_report(y_atual, y_pred, thresh):\n",
    "    \n",
    "    auc = roc_auc_score(y_atual, y_pred)\n",
    "    accuracy = accuracy_score(y_atual, (y_pred > thresh))\n",
    "    recall = recall_score(y_atual, (y_pred > thresh))\n",
    "    precision = precision_score(y_atual, (y_pred > thresh))\n",
    "    specificity = calc_specificity(y_atual, y_pred, thresh)\n",
    "    \n",
    "    print('AUC: %.3f' %auc)\n",
    "    print('Acurácia: %.3f' %accuracy)\n",
    "    print('Recall: %.3f' %recall)\n",
    "    print('Precisão: %.3f' %precision)\n",
    "    print('Especificidade: %.3f' %specificity)\n",
    "    \n",
    "    return auc, accuracy, recall, precision, specificity"
   ]
  },
  {
   "cell_type": "code",
   "execution_count": 113,
   "metadata": {},
   "outputs": [],
   "source": [
    "# Os dados de treinamento foram balanceados, dessa forma o thresh será definido no limite de 0,5 para rotular uma amostra prevista como positiva\n",
    "thresh = 0.5"
   ]
  },
  {
   "cell_type": "markdown",
   "metadata": {},
   "source": [
    "### Modelo 1 - Regressão Logística"
   ]
  },
  {
   "cell_type": "code",
   "execution_count": 122,
   "metadata": {},
   "outputs": [
    {
     "name": "stdout",
     "output_type": "stream",
     "text": [
      "----- Regressão Logística -----\n",
      "Treinamento\n",
      "AUC: 0.625\n",
      "Acurácia: 0.674\n",
      "Recall: 0.524\n",
      "Precisão: 0.748\n",
      "Especificidade: 0.823\n",
      "\n",
      "Validação\n",
      "AUC: 0.525\n",
      "Acurácia: 0.725\n",
      "Recall: 0.422\n",
      "Precisão: 0.391\n",
      "Especificidade: 0.812\n"
     ]
    }
   ],
   "source": [
    "lr = LogisticRegression(random_state=123)\n",
    "\n",
    "# Treinar e criar modelo\n",
    "model_v1 = lr.fit(X_treino_norm, Y_treino)\n",
    "\n",
    "# Prever\n",
    "y_treino_pred = lr.predict_proba(X_treino_norm)[:,1]\n",
    "y_valid_pred = lr.predict_proba(X_valid_norm)[:,1]\n",
    "\n",
    "lr_report_treino = []\n",
    "lr_report_valid = []\n",
    "\n",
    "print('----- Regressão Logística -----')\n",
    "print('Treinamento')\n",
    "lr_report_treino = print_report(Y_treino, y_treino_pred, thresh)\n",
    "print('\\nValidação')\n",
    "lr_report_valid = print_report(Y_valid, y_valid_pred, thresh)"
   ]
  },
  {
   "cell_type": "markdown",
   "metadata": {},
   "source": [
    "### Modelo 2 - Naive Bayes"
   ]
  },
  {
   "cell_type": "code",
   "execution_count": 123,
   "metadata": {},
   "outputs": [
    {
     "name": "stdout",
     "output_type": "stream",
     "text": [
      "----- Naive Bayes -----\n",
      "Treinamento\n",
      "AUC: 0.985\n",
      "Acurácia: 0.935\n",
      "Recall: 0.894\n",
      "Precisão: 0.975\n",
      "Especificidade: 0.977\n",
      "\n",
      "Validação\n",
      "AUC: 0.988\n",
      "Acurácia: 0.956\n",
      "Recall: 0.880\n",
      "Precisão: 0.918\n",
      "Especificidade: 0.978\n"
     ]
    }
   ],
   "source": [
    "nb = GaussianNB()\n",
    "\n",
    "# Treinar e criar o modelo\n",
    "model_v2 = nb.fit(X_treino_norm, Y_treino)\n",
    "\n",
    "# Prever\n",
    "y_treino_pred = nb.predict_proba(X_treino_norm)[:,1]\n",
    "y_valid_pred = nb.predict_proba(X_valid_norm)[:,1]\n",
    "\n",
    "nb_report_treino = []\n",
    "nb_report_valid = []\n",
    "\n",
    "print('----- Naive Bayes -----')\n",
    "print('Treinamento')\n",
    "nb_report_treino = print_report(Y_treino, y_treino_pred, thresh)\n",
    "print('\\nValidação')\n",
    "nb_report_valid = print_report(Y_valid, y_valid_pred, thresh)"
   ]
  },
  {
   "cell_type": "markdown",
   "metadata": {},
   "source": [
    "### Modelo 3 - XGBoost"
   ]
  },
  {
   "cell_type": "code",
   "execution_count": 124,
   "metadata": {},
   "outputs": [
    {
     "name": "stdout",
     "output_type": "stream",
     "text": [
      "----- Xtreme Gradient Boosting Classifier -----\n",
      "Treinamento\n",
      "AUC: 0.999\n",
      "Acurácia: 0.988\n",
      "Recall: 0.986\n",
      "Precisão: 0.990\n",
      "Especificidade: 0.990\n",
      "\n",
      "Validação\n",
      "AUC: 0.991\n",
      "Acurácia: 0.958\n",
      "Recall: 0.914\n",
      "Precisão: 0.898\n",
      "Especificidade: 0.970\n"
     ]
    }
   ],
   "source": [
    "xgbc = XGBClassifier()\n",
    "\n",
    "# Treinar e criar o modelo\n",
    "model_v3 = xgbc.fit(X_treino_norm, Y_treino)\n",
    "\n",
    "# Prever\n",
    "y_treino_pred = xgbc.predict_proba(X_treino_norm)[:,1]\n",
    "y_valid_pred = xgbc.predict_proba(X_valid_norm)[:,1]\n",
    "\n",
    "xgbc_report_treino = []\n",
    "xgbc_report_valid = []\n",
    "\n",
    "print('----- Xtreme Gradient Boosting Classifier -----')\n",
    "print('Treinamento')\n",
    "xgbc_report_treino = print_report(Y_treino, y_treino_pred, thresh)\n",
    "print('\\nValidação')\n",
    "xgbc_report_valid = print_report(Y_valid, y_valid_pred, thresh)"
   ]
  },
  {
   "cell_type": "markdown",
   "metadata": {},
   "source": [
    "# ------------------------------ Etapa 5 ------------------------------ \n",
    "## Avaliação e Interpretação"
   ]
  },
  {
   "cell_type": "code",
   "execution_count": 125,
   "metadata": {},
   "outputs": [],
   "source": [
    "df_results = pd.DataFrame({\n",
    "    'classificador':['RL','RL','NB','NB','XGB','XGB'],\n",
    "    'data_set':['treino','validação']*3,\n",
    "    'auc': [lr_report_treino[0], lr_report_valid[0], nb_report_treino[0], nb_report_valid[0], xgbc_report_treino[0], xgbc_report_valid[0]],\n",
    "    'accuracy': [lr_report_treino[1], lr_report_valid[1], nb_report_treino[1], nb_report_valid[1], xgbc_report_treino[1], xgbc_report_valid[1]],\n",
    "    'recall': [lr_report_treino[2], lr_report_valid[2], nb_report_treino[2], nb_report_valid[2], xgbc_report_treino[2], xgbc_report_valid[2]],\n",
    "    'precision': [lr_report_treino[3], lr_report_valid[3], nb_report_treino[3], nb_report_valid[3], xgbc_report_treino[3], xgbc_report_valid[3]],\n",
    "    'specificity': [lr_report_treino[4], lr_report_valid[4], nb_report_treino[4], nb_report_valid[4], xgbc_report_treino[4], xgbc_report_valid[4]],\n",
    "})"
   ]
  },
  {
   "cell_type": "markdown",
   "metadata": {},
   "source": [
    "### Comparar métrica AUC"
   ]
  },
  {
   "cell_type": "code",
   "execution_count": 127,
   "metadata": {},
   "outputs": [
    {
     "data": {
      "text/plain": [
       "<matplotlib.legend.Legend at 0x1b727f3d390>"
      ]
     },
     "execution_count": 127,
     "metadata": {},
     "output_type": "execute_result"
    },
    {
     "data": {
      "image/png": "[encoded data removed]",
      "text/plain": [
       "<Figure size 1152x576 with 1 Axes>"
      ]
     },
     "metadata": {
      "needs_background": "light"
     },
     "output_type": "display_data"
    }
   ],
   "source": [
    "plt.figure(figsize=(16,8))\n",
    "\n",
    "ax = sns.barplot(x='classificador',y='auc',hue='data_set',data=df_results)\n",
    "ax.set_xlabel('Classificador', fontsize=15)\n",
    "ax.set_ylabel('AUC', fontsize=15)\n",
    "ax.tick_params(labelsize=15)\n",
    "\n",
    "# Legenda\n",
    "plt.legend(bbox_to_anchor = (1.05, 1), loc = 2, borderaxespad = 0., fontsize = 15)"
   ]
  },
  {
   "cell_type": "markdown",
   "metadata": {},
   "source": [
    "### Salvar melhor modelo"
   ]
  },
  {
   "cell_type": "code",
   "execution_count": 152,
   "metadata": {},
   "outputs": [],
   "source": [
    "#os.getcwd()"
   ]
  },
  {
   "cell_type": "code",
   "execution_count": 131,
   "metadata": {},
   "outputs": [],
   "source": [
    "path = '..\\..\\PrevendoOcorrenciaDeCrisesEpileticas\\modelos'\n",
    "os.chdir(path)"
   ]
  },
  {
   "cell_type": "code",
   "execution_count": 134,
   "metadata": {},
   "outputs": [],
   "source": [
    "# De acordo com a AUC Score, o melhor modelo é o v3\n",
    "pickle.dump(model_v3, open('best_model.pkl','wb'), protocol=4)"
   ]
  },
  {
   "cell_type": "markdown",
   "metadata": {},
   "source": [
    "### Avaliar modelo"
   ]
  },
  {
   "cell_type": "code",
   "execution_count": 139,
   "metadata": {},
   "outputs": [],
   "source": [
    "# Carregar modelo\n",
    "best_model = pickle.load(open('best_model.pkl','rb'))"
   ]
  },
  {
   "cell_type": "code",
   "execution_count": 143,
   "metadata": {},
   "outputs": [],
   "source": [
    "# Calcular probabilidades de previsão\n",
    "y_treino_pred = best_model.predict_proba(X_treino_norm)[:,1]\n",
    "y_valid_pred = best_model.predict_proba(X_valid_norm)[:,1]\n",
    "y_teste_pred = best_model.predict_proba(X_teste_norm)[:,1]"
   ]
  },
  {
   "cell_type": "code",
   "execution_count": 144,
   "metadata": {},
   "outputs": [
    {
     "name": "stdout",
     "output_type": "stream",
     "text": [
      "\n",
      "Treinamento:\n",
      "AUC: 0.999\n",
      "Acurácia: 0.988\n",
      "Recall: 0.986\n",
      "Precisão: 0.990\n",
      "Especificidade: 0.990\n",
      "\n",
      "Validação:\n",
      "AUC: 0.991\n",
      "Acurácia: 0.958\n",
      "Recall: 0.914\n",
      "Precisão: 0.898\n",
      "Especificidade: 0.970\n",
      "\n",
      "Teste:\n",
      "AUC: 0.992\n",
      "Acurácia: 0.957\n",
      "Recall: 0.926\n",
      "Precisão: 0.854\n",
      "Especificidade: 0.964\n"
     ]
    }
   ],
   "source": [
    "# Desempenho\n",
    "thresh = 0.5\n",
    "\n",
    "print('\\nTreinamento:')\n",
    "report_treino = []\n",
    "report_treino = print_report(Y_treino, y_treino_pred, thresh)\n",
    "\n",
    "print('\\nValidação:')\n",
    "report_valid = []\n",
    "report_valid = print_report(Y_valid, y_valid_pred, thresh)\n",
    "\n",
    "print('\\nTeste:')\n",
    "report_teste = []\n",
    "report_teste = print_report(Y_teste, y_teste_pred, thresh)"
   ]
  },
  {
   "cell_type": "markdown",
   "metadata": {},
   "source": [
    "### Curva ROC"
   ]
  },
  {
   "cell_type": "code",
   "execution_count": 146,
   "metadata": {},
   "outputs": [
    {
     "data": {
      "image/png": "[encoded data removed]",
      "text/plain": [
       "<Figure size 1152x720 with 1 Axes>"
      ]
     },
     "metadata": {},
     "output_type": "display_data"
    }
   ],
   "source": [
    "# Calcula a curva ROC nos dados de treino\n",
    "fpr_train, tpr_train, thresholds_train = roc_curve(Y_treino, y_treino_pred)\n",
    "auc_train = roc_auc_score(Y_treino, y_treino_pred)\n",
    "\n",
    "# Calcula a curva ROC nos dados de validação\n",
    "fpr_valid, tpr_valid, thresholds_valid = roc_curve(Y_valid, y_valid_pred)\n",
    "auc_valid = roc_auc_score(Y_valid, y_valid_pred)\n",
    "\n",
    "# Calcula a curva ROC nos dados de teste\n",
    "fpr_test, tpr_test, thresholds_test = roc_curve(Y_teste, y_teste_pred)\n",
    "auc_test = roc_auc_score(Y_teste, y_teste_pred)\n",
    "\n",
    "# Plot\n",
    "plt.figure(figsize=(16,10))\n",
    "plt.plot(fpr_train, tpr_train, 'r-',label ='AUC em Treino: %.3f'%auc_train)\n",
    "plt.plot(fpr_valid, tpr_valid, 'b-',label ='AUC em Validação: %.3f'%auc_valid)\n",
    "plt.plot(fpr_test, tpr_test, 'g-',label ='AUC em Teste: %.3f'%auc_test)\n",
    "plt.plot([0,1],[0,1],'k--')\n",
    "plt.xlabel('Taxa de Falso Positivo')\n",
    "plt.ylabel('Taxa de Verdadeiro Positivo')\n",
    "plt.legend()\n",
    "plt.show()"
   ]
  },
  {
   "cell_type": "markdown",
   "metadata": {},
   "source": [
    "# ------------------------------ Etapa 6 ------------------------------ \n",
    "## Deploy "
   ]
  },
  {
   "cell_type": "code",
   "execution_count": 155,
   "metadata": {},
   "outputs": [],
   "source": [
    "path = '..\\..\\_dados\\PrevendoOcorrenciaDeCrisesEpileticas'\n",
    "os.chdir(path)"
   ]
  },
  {
   "cell_type": "code",
   "execution_count": 157,
   "metadata": {},
   "outputs": [],
   "source": [
    "# Carregando dados de um novo paciente\n",
    "novo_paciente = pd.read_csv('novo_paciente.csv')"
   ]
  },
  {
   "cell_type": "code",
   "execution_count": 158,
   "metadata": {},
   "outputs": [
    {
     "data": {
      "text/html": [
       "<div>\n",
       "<style scoped>\n",
       "    .dataframe tbody tr th:only-of-type {\n",
       "        vertical-align: middle;\n",
       "    }\n",
       "\n",
       "    .dataframe tbody tr th {\n",
       "        vertical-align: top;\n",
       "    }\n",
       "\n",
       "    .dataframe thead th {\n",
       "        text-align: right;\n",
       "    }\n",
       "</style>\n",
       "<table border=\"1\" class=\"dataframe\">\n",
       "  <thead>\n",
       "    <tr style=\"text-align: right;\">\n",
       "      <th></th>\n",
       "      <th>X1</th>\n",
       "      <th>X2</th>\n",
       "      <th>X3</th>\n",
       "      <th>X4</th>\n",
       "      <th>X5</th>\n",
       "      <th>X6</th>\n",
       "      <th>X7</th>\n",
       "      <th>X8</th>\n",
       "      <th>X9</th>\n",
       "      <th>X10</th>\n",
       "      <th>...</th>\n",
       "      <th>X169</th>\n",
       "      <th>X170</th>\n",
       "      <th>X171</th>\n",
       "      <th>X172</th>\n",
       "      <th>X173</th>\n",
       "      <th>X174</th>\n",
       "      <th>X175</th>\n",
       "      <th>X176</th>\n",
       "      <th>X177</th>\n",
       "      <th>X178</th>\n",
       "    </tr>\n",
       "  </thead>\n",
       "  <tbody>\n",
       "    <tr>\n",
       "      <th>0</th>\n",
       "      <td>51</td>\n",
       "      <td>43</td>\n",
       "      <td>34</td>\n",
       "      <td>21</td>\n",
       "      <td>13</td>\n",
       "      <td>12</td>\n",
       "      <td>6</td>\n",
       "      <td>4</td>\n",
       "      <td>1</td>\n",
       "      <td>-4</td>\n",
       "      <td>...</td>\n",
       "      <td>-41</td>\n",
       "      <td>-16</td>\n",
       "      <td>2</td>\n",
       "      <td>22</td>\n",
       "      <td>33</td>\n",
       "      <td>45</td>\n",
       "      <td>56</td>\n",
       "      <td>67</td>\n",
       "      <td>69</td>\n",
       "      <td>63</td>\n",
       "    </tr>\n",
       "  </tbody>\n",
       "</table>\n",
       "<p>1 rows × 178 columns</p>\n",
       "</div>"
      ],
      "text/plain": [
       "   X1  X2  X3  X4  X5  X6  X7  X8  X9  X10  ...   X169  X170  X171  X172  \\\n",
       "0  51  43  34  21  13  12   6   4   1   -4  ...    -41   -16     2    22   \n",
       "\n",
       "   X173  X174  X175  X176  X177  X178  \n",
       "0    33    45    56    67    69    63  \n",
       "\n",
       "[1 rows x 178 columns]"
      ]
     },
     "execution_count": 158,
     "metadata": {},
     "output_type": "execute_result"
    }
   ],
   "source": [
    "novo_paciente.head()"
   ]
  },
  {
   "cell_type": "code",
   "execution_count": 159,
   "metadata": {},
   "outputs": [],
   "source": [
    "novo_paciente_norm = scaler.transform(novo_paciente)"
   ]
  },
  {
   "cell_type": "code",
   "execution_count": 162,
   "metadata": {},
   "outputs": [
    {
     "data": {
      "text/plain": [
       "array([[ 0.25964119,  0.21615433,  0.17400622,  0.11056945,  0.0668677 ,\n",
       "         0.05271345,  0.0220026 ,  0.01620892,  0.005005  , -0.01930095,\n",
       "        -0.06170496, -0.09382831, -0.1063611 , -0.10294887, -0.08421772,\n",
       "        -0.07290323, -0.06955981, -0.06884547, -0.0420909 , -0.02402874,\n",
       "        -0.03450456, -0.01116784,  0.01218608,  0.01945409,  0.00999585,\n",
       "         0.01000434,  0.03731302,  0.06271492,  0.0885744 ,  0.08004195,\n",
       "         0.05834662,  0.00146571, -0.018596  , -0.03632095, -0.01050467,\n",
       "         0.0211173 ,  0.06591001,  0.11037185,  0.13074897,  0.16670088,\n",
       "         0.17748528,  0.19118928,  0.17732919,  0.19335926,  0.19184929,\n",
       "         0.19511662,  0.19430279,  0.15979418,  0.10016803,  0.05165006,\n",
       "         0.03160019, -0.02804559, -0.08567789, -0.13362157, -0.1654689 ,\n",
       "        -0.18764147, -0.1896208 , -0.18308448, -0.17173215, -0.13446873,\n",
       "        -0.0984026 , -0.05878551, -0.02300623, -0.04012898, -0.03087935,\n",
       "        -0.02404892, -0.00676045,  0.04400829,  0.06881709,  0.05925335,\n",
       "         0.06004358,  0.06276944,  0.03484136,  0.02473673,  0.02577964,\n",
       "         0.04564131,  0.04447586,  0.04048519,  0.03486808,  0.01991996,\n",
       "         0.02823358,  0.0407336 ,  0.04433647,  0.00061882, -0.0305535 ,\n",
       "        -0.08520315, -0.14559488, -0.21520261, -0.27415912, -0.29627653,\n",
       "        -0.32977871, -0.33180071, -0.35749362, -0.35748867, -0.34062919,\n",
       "        -0.27134939, -0.23514951, -0.21081719, -0.20308199, -0.2149717 ,\n",
       "        -0.2436012 , -0.26383119, -0.25744432, -0.22184071, -0.19318463,\n",
       "        -0.13625513, -0.08694308, -0.02290961,  0.06325826,  0.13130331,\n",
       "         0.17041513,  0.20384127,  0.224585  ,  0.20745968,  0.15547959,\n",
       "         0.09006435,  0.03683945, -0.02568484, -0.0857819 , -0.12184116,\n",
       "        -0.15603512, -0.16206799, -0.13676776, -0.12655241, -0.11179291,\n",
       "        -0.10109736, -0.09474399, -0.08498729, -0.09594963, -0.02790534,\n",
       "         0.02363184,  0.10054393,  0.15169918,  0.19990224,  0.20329365,\n",
       "         0.17598536,  0.15072422,  0.12734488,  0.12513256,  0.09722578,\n",
       "         0.08620724,  0.07884031,  0.05623302,  0.05107967,  0.04490577,\n",
       "         0.03038222,  0.04580116,  0.08178161,  0.11389205,  0.11848325,\n",
       "         0.14853432,  0.14256085,  0.13376095,  0.09986682,  0.06242172,\n",
       "         0.02287137, -0.00726621, -0.05353357, -0.1086052 , -0.18320999,\n",
       "        -0.20865018, -0.20744993, -0.2433092 , -0.26451043, -0.29743449,\n",
       "        -0.28573798, -0.25963106, -0.19826508, -0.12238434, -0.01197752,\n",
       "         0.0748327 ,  0.16517901,  0.21260885,  0.25440296,  0.29710257,\n",
       "         0.34170182,  0.35109767,  0.32014154]])"
      ]
     },
     "execution_count": 162,
     "metadata": {},
     "output_type": "execute_result"
    }
   ],
   "source": [
    "novo_paciente_norm"
   ]
  },
  {
   "cell_type": "markdown",
   "metadata": {},
   "source": [
    "### Prever condição do novo paciente"
   ]
  },
  {
   "cell_type": "code",
   "execution_count": 164,
   "metadata": {},
   "outputs": [],
   "source": [
    "result_proba = best_model.predict_proba(novo_paciente_norm)\n",
    "result_predict = best_model.predict(novo_paciente_norm)"
   ]
  },
  {
   "cell_type": "code",
   "execution_count": 179,
   "metadata": {},
   "outputs": [
    {
     "name": "stdout",
     "output_type": "stream",
     "text": [
      "O paciente tem 0.985 chances de não ter crise epilética e 0.015 chances de ter crise epilética\n",
      "O modelo classificou o paciente na classe 0, dessa forma o paciente não terá uma crise epilética\n"
     ]
    }
   ],
   "source": [
    "print(\"O paciente tem %.3f chances de não ter crise epilética e %.3f chances de ter crise epilética\" %(result_proba[0][0],result_proba[0][1]))\n",
    "print('O modelo classificou o paciente na classe %.f, dessa forma o paciente não terá uma crise epilética' %result_predict[0])"
   ]
  },
  {
   "cell_type": "code",
   "execution_count": null,
   "metadata": {},
   "outputs": [],
   "source": []
  }
 ],
 "metadata": {
  "kernelspec": {
   "display_name": "Python 3",
   "language": "python",
   "name": "python3"
  },
  "language_info": {
   "codemirror_mode": {
    "name": "ipython",
    "version": 3
   },
   "file_extension": ".py",
   "mimetype": "text/x-python",
   "name": "python",
   "nbconvert_exporter": "python",
   "pygments_lexer": "ipython3",
   "version": "3.7.0"
  }
 },
 "nbformat": 4,
 "nbformat_minor": 2
}
